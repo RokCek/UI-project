{
 "cells": [
  {
   "cell_type": "code",
   "execution_count": 1,
   "id": "f329bb94-a8f6-446a-afc8-f184e126be26",
   "metadata": {},
   "outputs": [],
   "source": [
    "import numpy as np \n",
    "import time, math, random\n",
    "from tqdm import tqdm\n",
    "# import gym \n",
    "import gym"
   ]
  },
  {
   "cell_type": "code",
   "execution_count": 2,
   "id": "b1d8208a-7e8c-4b82-a012-02c29df1ffaf",
   "metadata": {},
   "outputs": [],
   "source": [
    "env = gym.make('CartPole-v1')"
   ]
  },
  {
   "cell_type": "code",
   "execution_count": 3,
   "id": "fa9bb44b-5225-4bda-9fba-1cde8d618979",
   "metadata": {},
   "outputs": [
    {
     "data": {
      "text/plain": [
       "'policy = lambda obs: 1\\n\\nfor _ in range(3):\\n    obs = env.reset()\\n    for _ in range(80):\\n        actions = policy(obs)\\n        obs, reward, done, _ = env.step(actions) \\n        #print(info)\\n        env.render()\\n        time.sleep(0.05)\\n\\nenv.close()'"
      ]
     },
     "execution_count": 3,
     "metadata": {},
     "output_type": "execute_result"
    }
   ],
   "source": [
    "\"\"\"policy = lambda obs: 1\n",
    "\n",
    "for _ in range(3):\n",
    "    obs = env.reset()\n",
    "    for _ in range(80):\n",
    "        actions = policy(obs)\n",
    "        obs, reward, done, _ = env.step(actions) \n",
    "        #print(info)\n",
    "        env.render()\n",
    "        time.sleep(0.05)\n",
    "\n",
    "env.close()\"\"\""
   ]
  },
  {
   "cell_type": "code",
   "execution_count": null,
   "id": "5e310860-5e2f-4de7-bbde-66f2216715b7",
   "metadata": {},
   "outputs": [],
   "source": []
  },
  {
   "cell_type": "code",
   "execution_count": null,
   "id": "6d9387fb-719a-4e1b-bba5-22cf0f0b6197",
   "metadata": {},
   "outputs": [],
   "source": []
  },
  {
   "cell_type": "code",
   "execution_count": null,
   "id": "81619c68-c3d8-4d5a-beb6-c9516b21bec7",
   "metadata": {},
   "outputs": [],
   "source": []
  },
  {
   "cell_type": "code",
   "execution_count": 4,
   "id": "315a885b-24ec-4af3-841c-e936e610a6c8",
   "metadata": {},
   "outputs": [],
   "source": [
    "number_bins = (10, 20)\n",
    "lower_bounds = [env.observation_space.low[2], -np.radians(50)]\n",
    "upper_bounds = [env.observation_space.high[2], np.radians(50)]\n",
    "bins = [np.linspace(lower_bounds[i], upper_bounds[i], number_bins[i]+1)[1:-1] for i in range(len(number_bins))]\n",
    "\n",
    "learning_rate = 0.2\n",
    "#discount_factor = 1 # Our cart always has to move\n",
    "exploration_rate = 0.3\n",
    "initial_exploration_rate = 0.5\n",
    "epsilon_decay = 0.001\n",
    "decay = 0.1\n",
    "Q = np.zeros(number_bins + (env.action_space.n,))"
   ]
  },
  {
   "cell_type": "code",
   "execution_count": 5,
   "id": "f6df3288-9337-4768-9aa0-21ba40a7b6e2",
   "metadata": {},
   "outputs": [
    {
     "data": {
      "text/plain": [
       "[array([-0.33510323, -0.25132742, -0.16755161, -0.08377581,  0.        ,\n",
       "         0.08377581,  0.16755161,  0.25132742,  0.33510323]),\n",
       " array([-0.78539816, -0.6981317 , -0.61086524, -0.52359878, -0.43633231,\n",
       "        -0.34906585, -0.26179939, -0.17453293, -0.08726646,  0.        ,\n",
       "         0.08726646,  0.17453293,  0.26179939,  0.34906585,  0.43633231,\n",
       "         0.52359878,  0.61086524,  0.6981317 ,  0.78539816])]"
      ]
     },
     "execution_count": 5,
     "metadata": {},
     "output_type": "execute_result"
    }
   ],
   "source": [
    "bins"
   ]
  },
  {
   "cell_type": "code",
   "execution_count": 6,
   "id": "a26a44aa-9f73-42fc-a2d4-50fa032d20d3",
   "metadata": {},
   "outputs": [],
   "source": [
    "def rate_decay(rate, decay_rate, episode):\n",
    "    new_rate = rate / (1 + decay_rate * episode)\n",
    "    return new_rate"
   ]
  },
  {
   "cell_type": "code",
   "execution_count": 7,
   "id": "c556ddcf-e8d0-4910-a413-7099714691bb",
   "metadata": {},
   "outputs": [],
   "source": [
    "def discretizer(position, cart_velocity, angle, pole_velocity):\n",
    "    \"\"\"Convert continuous space into a discrete space.\"\"\"\n",
    "    state = np.array([angle, pole_velocity])\n",
    "    state_disc = []\n",
    "    for i in range(len(state)):\n",
    "        digitized = 0\n",
    "        for j in range(len(bins[i])):\n",
    "            if state[i] > bins[i][j]:\n",
    "                digitized += 1\n",
    "            else:\n",
    "                break\n",
    "        state_disc.append(digitized)\n",
    "    return tuple(state_disc)"
   ]
  },
  {
   "cell_type": "code",
   "execution_count": 8,
   "id": "adc6fc95-dd7f-4913-ac06-9ef80b7d7ae6",
   "metadata": {},
   "outputs": [],
   "source": [
    "def new_q(reward,new_state):\n",
    "    estimate_optimal_future_value = np.max(Q[new_state])\n",
    "    new_value = reward + estimate_optimal_future_value\n",
    "    return new_value"
   ]
  },
  {
   "cell_type": "code",
   "execution_count": 9,
   "id": "6b322547-8c8a-4bfc-8e9e-cf66689d2fb0",
   "metadata": {
    "tags": []
   },
   "outputs": [
    {
     "name": "stderr",
     "output_type": "stream",
     "text": [
      "  0%|                                                                              | 1/10000 [00:00<1:13:13,  2.28it/s]"
     ]
    },
    {
     "name": "stdout",
     "output_type": "stream",
     "text": [
      "0 0.4394071102142334\n"
     ]
    },
    {
     "name": "stderr",
     "output_type": "stream",
     "text": [
      "  0%|                                                                                | 7/10000 [00:02<55:42,  2.99it/s]"
     ]
    },
    {
     "name": "stdout",
     "output_type": "stream",
     "text": [
      "6 0.46483445167541504\n"
     ]
    },
    {
     "name": "stderr",
     "output_type": "stream",
     "text": [
      "  0%|                                                                               | 14/10000 [00:04<53:20,  3.12it/s]"
     ]
    },
    {
     "name": "stdout",
     "output_type": "stream",
     "text": [
      "13 0.48058128356933594\n"
     ]
    },
    {
     "name": "stderr",
     "output_type": "stream",
     "text": [
      "  0%|                                                                             | 16/10000 [00:05<1:15:22,  2.21it/s]"
     ]
    },
    {
     "name": "stdout",
     "output_type": "stream",
     "text": [
      "15 0.6798610687255859\n"
     ]
    },
    {
     "name": "stderr",
     "output_type": "stream",
     "text": [
      "  1%|▍                                                                            | 51/10000 [00:14<1:13:35,  2.25it/s]"
     ]
    },
    {
     "name": "stdout",
     "output_type": "stream",
     "text": [
      "50 0.8180828094482422\n"
     ]
    },
    {
     "name": "stderr",
     "output_type": "stream",
     "text": [
      "  1%|▌                                                                            | 78/10000 [00:23<1:10:32,  2.34it/s]"
     ]
    },
    {
     "name": "stdout",
     "output_type": "stream",
     "text": [
      "76 0.948936939239502\n"
     ]
    },
    {
     "name": "stderr",
     "output_type": "stream",
     "text": [
      "  4%|███                                                                         | 409/10000 [01:46<1:19:27,  2.01it/s]"
     ]
    },
    {
     "name": "stdout",
     "output_type": "stream",
     "text": [
      "408 0.9494402408599854\n"
     ]
    },
    {
     "name": "stderr",
     "output_type": "stream",
     "text": [
      "  5%|███▉                                                                        | 515/10000 [02:27<2:15:27,  1.17it/s]"
     ]
    },
    {
     "name": "stdout",
     "output_type": "stream",
     "text": [
      "514 1.8814153671264648\n"
     ]
    },
    {
     "name": "stderr",
     "output_type": "stream",
     "text": [
      "  6%|████▊                                                                       | 631/10000 [03:20<2:22:34,  1.10it/s]"
     ]
    },
    {
     "name": "stdout",
     "output_type": "stream",
     "text": [
      "630 1.897468090057373\n"
     ]
    },
    {
     "name": "stderr",
     "output_type": "stream",
     "text": [
      "  7%|█████                                                                       | 666/10000 [03:44<3:42:27,  1.43s/it]"
     ]
    },
    {
     "name": "stdout",
     "output_type": "stream",
     "text": [
      "665 2.4143402576446533\n"
     ]
    },
    {
     "name": "stderr",
     "output_type": "stream",
     "text": [
      "  7%|█████                                                                       | 672/10000 [03:51<4:21:30,  1.68s/it]"
     ]
    },
    {
     "name": "stdout",
     "output_type": "stream",
     "text": [
      "671 3.4321420192718506\n"
     ]
    },
    {
     "name": "stderr",
     "output_type": "stream",
     "text": [
      "  7%|█████▌                                                                      | 739/10000 [04:58<3:49:31,  1.49s/it]"
     ]
    },
    {
     "name": "stdout",
     "output_type": "stream",
     "text": [
      "738 3.5485527515411377\n"
     ]
    },
    {
     "name": "stderr",
     "output_type": "stream",
     "text": [
      "  8%|█████▋                                                                      | 752/10000 [05:21<7:19:32,  2.85s/it]"
     ]
    },
    {
     "name": "stdout",
     "output_type": "stream",
     "text": [
      "751 6.627370119094849\n"
     ]
    },
    {
     "name": "stderr",
     "output_type": "stream",
     "text": [
      "  8%|█████▋                                                                     | 753/10000 [05:28<10:28:59,  4.08s/it]"
     ]
    },
    {
     "name": "stdout",
     "output_type": "stream",
     "text": [
      "752 6.949462413787842\n"
     ]
    },
    {
     "name": "stderr",
     "output_type": "stream",
     "text": [
      "  8%|██████                                                                      | 803/10000 [07:04<9:57:29,  3.90s/it]"
     ]
    },
    {
     "name": "stdout",
     "output_type": "stream",
     "text": [
      "802 8.347713232040405\n"
     ]
    },
    {
     "name": "stderr",
     "output_type": "stream",
     "text": [
      "  8%|██████▏                                                                     | 815/10000 [07:49<9:19:17,  3.65s/it]"
     ]
    },
    {
     "name": "stdout",
     "output_type": "stream",
     "text": [
      "814 8.364711284637451\n"
     ]
    },
    {
     "name": "stderr",
     "output_type": "stream",
     "text": [
      "  8%|██████▎                                                                    | 845/10000 [09:37<14:14:00,  5.60s/it]"
     ]
    },
    {
     "name": "stdout",
     "output_type": "stream",
     "text": [
      "844 8.38300085067749\n"
     ]
    },
    {
     "name": "stderr",
     "output_type": "stream",
     "text": [
      "  9%|██████▋                                                                    | 894/10000 [12:19<13:59:30,  5.53s/it]"
     ]
    },
    {
     "name": "stdout",
     "output_type": "stream",
     "text": [
      "893 8.479212045669556\n"
     ]
    },
    {
     "name": "stderr",
     "output_type": "stream",
     "text": [
      " 10%|███████▎                                                                   | 979/10000 [17:58<16:33:06,  6.61s/it]"
     ]
    },
    {
     "name": "stdout",
     "output_type": "stream",
     "text": [
      "978 8.715261220932007\n"
     ]
    },
    {
     "name": "stderr",
     "output_type": "stream",
     "text": [
      " 20%|██████████████                                                          | 1950/10000 [2:09:18<19:16:12,  8.62s/it]"
     ]
    },
    {
     "name": "stdout",
     "output_type": "stream",
     "text": [
      "1949 9.196978569030762\n"
     ]
    },
    {
     "name": "stderr",
     "output_type": "stream",
     "text": [
      " 33%|███████████████████████▋                                                | 3292/10000 [5:11:14<10:34:11,  5.67s/it]\n"
     ]
    },
    {
     "ename": "KeyboardInterrupt",
     "evalue": "",
     "output_type": "error",
     "traceback": [
      "\u001b[1;31m---------------------------------------------------------------------------\u001b[0m",
      "\u001b[1;31mKeyboardInterrupt\u001b[0m                         Traceback (most recent call last)",
      "Cell \u001b[1;32mIn[9], line 44\u001b[0m\n\u001b[0;32m     41\u001b[0m     current_state \u001b[38;5;241m=\u001b[39m new_state\n\u001b[0;32m     43\u001b[0m     \u001b[38;5;66;03m# Render the cartpole environment\u001b[39;00m\n\u001b[1;32m---> 44\u001b[0m     \u001b[43menv\u001b[49m\u001b[38;5;241;43m.\u001b[39;49m\u001b[43mrender\u001b[49m\u001b[43m(\u001b[49m\u001b[43m)\u001b[49m\n\u001b[0;32m     45\u001b[0m stop \u001b[38;5;241m=\u001b[39m time\u001b[38;5;241m.\u001b[39mtime()\n\u001b[0;32m     46\u001b[0m t \u001b[38;5;241m=\u001b[39m stop \u001b[38;5;241m-\u001b[39m start\n",
      "File \u001b[1;32m~\\.conda\\envs\\AI\\lib\\site-packages\\gym\\core.py:240\u001b[0m, in \u001b[0;36mWrapper.render\u001b[1;34m(self, mode, **kwargs)\u001b[0m\n\u001b[0;32m    239\u001b[0m \u001b[38;5;28;01mdef\u001b[39;00m \u001b[38;5;21mrender\u001b[39m(\u001b[38;5;28mself\u001b[39m, mode\u001b[38;5;241m=\u001b[39m\u001b[38;5;124m'\u001b[39m\u001b[38;5;124mhuman\u001b[39m\u001b[38;5;124m'\u001b[39m, \u001b[38;5;241m*\u001b[39m\u001b[38;5;241m*\u001b[39mkwargs):\n\u001b[1;32m--> 240\u001b[0m     \u001b[38;5;28;01mreturn\u001b[39;00m \u001b[38;5;28mself\u001b[39m\u001b[38;5;241m.\u001b[39menv\u001b[38;5;241m.\u001b[39mrender(mode, \u001b[38;5;241m*\u001b[39m\u001b[38;5;241m*\u001b[39mkwargs)\n",
      "File \u001b[1;32m~\\.conda\\envs\\AI\\lib\\site-packages\\gym\\envs\\classic_control\\cartpole.py:213\u001b[0m, in \u001b[0;36mCartPoleEnv.render\u001b[1;34m(self, mode)\u001b[0m\n\u001b[0;32m    210\u001b[0m \u001b[38;5;28mself\u001b[39m\u001b[38;5;241m.\u001b[39mcarttrans\u001b[38;5;241m.\u001b[39mset_translation(cartx, carty)\n\u001b[0;32m    211\u001b[0m \u001b[38;5;28mself\u001b[39m\u001b[38;5;241m.\u001b[39mpoletrans\u001b[38;5;241m.\u001b[39mset_rotation(\u001b[38;5;241m-\u001b[39mx[\u001b[38;5;241m2\u001b[39m])\n\u001b[1;32m--> 213\u001b[0m \u001b[38;5;28;01mreturn\u001b[39;00m \u001b[38;5;28;43mself\u001b[39;49m\u001b[38;5;241;43m.\u001b[39;49m\u001b[43mviewer\u001b[49m\u001b[38;5;241;43m.\u001b[39;49m\u001b[43mrender\u001b[49m\u001b[43m(\u001b[49m\u001b[43mreturn_rgb_array\u001b[49m\u001b[38;5;241;43m=\u001b[39;49m\u001b[43mmode\u001b[49m\u001b[43m \u001b[49m\u001b[38;5;241;43m==\u001b[39;49m\u001b[43m \u001b[49m\u001b[38;5;124;43m'\u001b[39;49m\u001b[38;5;124;43mrgb_array\u001b[39;49m\u001b[38;5;124;43m'\u001b[39;49m\u001b[43m)\u001b[49m\n",
      "File \u001b[1;32m~\\.conda\\envs\\AI\\lib\\site-packages\\gym\\envs\\classic_control\\rendering.py:127\u001b[0m, in \u001b[0;36mViewer.render\u001b[1;34m(self, return_rgb_array)\u001b[0m\n\u001b[0;32m    125\u001b[0m     arr \u001b[38;5;241m=\u001b[39m arr\u001b[38;5;241m.\u001b[39mreshape(buffer\u001b[38;5;241m.\u001b[39mheight, buffer\u001b[38;5;241m.\u001b[39mwidth, \u001b[38;5;241m4\u001b[39m)\n\u001b[0;32m    126\u001b[0m     arr \u001b[38;5;241m=\u001b[39m arr[::\u001b[38;5;241m-\u001b[39m\u001b[38;5;241m1\u001b[39m,:,\u001b[38;5;241m0\u001b[39m:\u001b[38;5;241m3\u001b[39m]\n\u001b[1;32m--> 127\u001b[0m \u001b[38;5;28;43mself\u001b[39;49m\u001b[38;5;241;43m.\u001b[39;49m\u001b[43mwindow\u001b[49m\u001b[38;5;241;43m.\u001b[39;49m\u001b[43mflip\u001b[49m\u001b[43m(\u001b[49m\u001b[43m)\u001b[49m\n\u001b[0;32m    128\u001b[0m \u001b[38;5;28mself\u001b[39m\u001b[38;5;241m.\u001b[39monetime_geoms \u001b[38;5;241m=\u001b[39m []\n\u001b[0;32m    129\u001b[0m \u001b[38;5;28;01mreturn\u001b[39;00m arr \u001b[38;5;28;01mif\u001b[39;00m return_rgb_array \u001b[38;5;28;01melse\u001b[39;00m \u001b[38;5;28mself\u001b[39m\u001b[38;5;241m.\u001b[39misopen\n",
      "File \u001b[1;32m~\\.conda\\envs\\AI\\lib\\site-packages\\pyglet\\window\\win32\\__init__.py:338\u001b[0m, in \u001b[0;36mWin32Window.flip\u001b[1;34m(self)\u001b[0m\n\u001b[0;32m    335\u001b[0m         \u001b[38;5;28;01mif\u001b[39;00m \u001b[38;5;28mself\u001b[39m\u001b[38;5;241m.\u001b[39m_interval:\n\u001b[0;32m    336\u001b[0m             _dwmapi\u001b[38;5;241m.\u001b[39mDwmFlush()\n\u001b[1;32m--> 338\u001b[0m \u001b[38;5;28;43mself\u001b[39;49m\u001b[38;5;241;43m.\u001b[39;49m\u001b[43mcontext\u001b[49m\u001b[38;5;241;43m.\u001b[39;49m\u001b[43mflip\u001b[49m\u001b[43m(\u001b[49m\u001b[43m)\u001b[49m\n",
      "File \u001b[1;32m~\\.conda\\envs\\AI\\lib\\site-packages\\pyglet\\gl\\win32.py:252\u001b[0m, in \u001b[0;36mWin32Context.flip\u001b[1;34m(self)\u001b[0m\n\u001b[0;32m    251\u001b[0m \u001b[38;5;28;01mdef\u001b[39;00m \u001b[38;5;21mflip\u001b[39m(\u001b[38;5;28mself\u001b[39m):\n\u001b[1;32m--> 252\u001b[0m     \u001b[43m_gdi32\u001b[49m\u001b[38;5;241;43m.\u001b[39;49m\u001b[43mSwapBuffers\u001b[49m\u001b[43m(\u001b[49m\u001b[38;5;28;43mself\u001b[39;49m\u001b[38;5;241;43m.\u001b[39;49m\u001b[43mcanvas\u001b[49m\u001b[38;5;241;43m.\u001b[39;49m\u001b[43mhdc\u001b[49m\u001b[43m)\u001b[49m\n",
      "\u001b[1;31mKeyboardInterrupt\u001b[0m: "
     ]
    }
   ],
   "source": [
    "n_episodes = 10000 \n",
    "max_time = 0\n",
    "\n",
    "angle_bins = []\n",
    "\n",
    "for e in tqdm(range(n_episodes)):\n",
    "    start = time.time()\n",
    "    #rint(e)\n",
    "    \n",
    "    # Siscretize state into buckets\n",
    "    current_state, done = discretizer(*env.reset()), False\n",
    "    \n",
    "    while done==False:\n",
    "        \n",
    "        # policy action \n",
    "        action = np.argmax(Q[current_state]) # exploit\n",
    "        \n",
    "        # insert random action\n",
    "        #exploration_rate = rate_decay(exploration_rate,decay,e)\n",
    "        exploration_rate = max(0.01, initial_exploration_rate * np.exp(-epsilon_decay * e))\n",
    "        #print(exploration_rate)\n",
    "\n",
    "        if np.random.random() < exploration_rate : \n",
    "            action = env.action_space.sample() # explore \n",
    "         \n",
    "        # increment enviroment\n",
    "        obs, reward, done, _ = env.step(action)\n",
    "        new_state = discretizer(*obs)\n",
    "        angle_bins.append(new_state[0])\n",
    "        \n",
    "        if (angle_bins[e-1] < number_bins[0]/2 and angle_bins[e] < number_bins[0]/2) or (angle_bins[e-1] > number_bins[0]/2 and angle_bins[e] > number_bins[0]/2):\n",
    "            reward = reward*0.7\n",
    "        \n",
    "        # Update Q-Table\n",
    "        lr = learning_rate\n",
    "        #lr = rate_decay(learning_rate,decay,e)\n",
    "        learnt_value = new_q(reward , new_state )\n",
    "        old_value = Q[current_state][action]\n",
    "        Q[current_state][action] = (1-lr)*old_value + lr*learnt_value\n",
    "        \n",
    "        current_state = new_state\n",
    "\n",
    "        # Render the cartpole environment\n",
    "        env.render()\n",
    "    stop = time.time()\n",
    "    t = stop - start\n",
    "    \n",
    "    if t > max_time:\n",
    "        max_time = t\n",
    "        print(e, max_time)"
   ]
  },
  {
   "cell_type": "code",
   "execution_count": 10,
   "id": "3aac1b32-17ca-47b8-a44b-5dfb2e108c22",
   "metadata": {},
   "outputs": [],
   "source": [
    "# Save a dictionary into a pickle file.\n",
    "import pickle\n",
    "\n",
    "pickle.dump(Q, open(\"save.p\", \"wb\"))  # save it into a file named save.p"
   ]
  },
  {
   "cell_type": "code",
   "execution_count": 11,
   "id": "246e5eb3-0b39-4b5f-9c03-52101fc648b1",
   "metadata": {},
   "outputs": [],
   "source": [
    "def run_trained():\n",
    "    number_bins = (10, 20)\n",
    "    lower_bounds = [env.observation_space.low[2], -np.radians(50)]\n",
    "    upper_bounds = [env.observation_space.high[2], np.radians(50)]\n",
    "    bins = [np.linspace(lower_bounds[i], upper_bounds[i], number_bins[i]+1)[1:-1] for i in range(len(number_bins))]\n",
    "\n",
    "    learning_rate = 0.2\n",
    "    #discount_factor = 1 # Our cart always has to move\n",
    "    exploration_rate = 0.3\n",
    "    initial_exploration_rate = 0.5\n",
    "    epsilon_decay = 0.001\n",
    "    decay = 0.1\n",
    "\n",
    "    with open('save.p', 'rb') as fp:\n",
    "        Q = pickle.load(fp)\n",
    "    n_episodes = 10000 \n",
    "    max_time = 0\n",
    "    exploration_rate = 0\n",
    "    angle_bins = []\n",
    "\n",
    "    for e in tqdm(range(n_episodes)):\n",
    "        start = time.time()\n",
    "        #rint(e)\n",
    "\n",
    "        # Siscretize state into buckets\n",
    "        current_state, done = discretizer(*env.reset()), False\n",
    "\n",
    "        while done==False:\n",
    "\n",
    "            # policy action \n",
    "            action = np.argmax(Q[current_state]) # exploit\n",
    "\n",
    "            # increment enviroment\n",
    "            obs, reward, done, _ = env.step(action)\n",
    "            new_state = discretizer(*obs)\n",
    "                     \n",
    "            current_state = new_state\n",
    "\n",
    "            # Render the cartpole environment\n",
    "            env.render()\n",
    "        stop = time.time()\n",
    "        t = stop - start\n",
    "\n",
    "        if t > max_time:\n",
    "            max_time = t\n",
    "            print(e, max_time)"
   ]
  },
  {
   "cell_type": "code",
   "execution_count": 12,
   "id": "ff379f7d-4b76-4e64-b59a-55976987b0d7",
   "metadata": {},
   "outputs": [
    {
     "name": "stderr",
     "output_type": "stream",
     "text": [
      "  0%|                                                                             | 1/10000 [00:08<23:12:15,  8.35s/it]"
     ]
    },
    {
     "name": "stdout",
     "output_type": "stream",
     "text": [
      "0 8.35442328453064\n"
     ]
    },
    {
     "name": "stderr",
     "output_type": "stream",
     "text": [
      "  0%|                                                                             | 3/10000 [00:26<24:13:24,  8.72s/it]\n"
     ]
    },
    {
     "ename": "KeyboardInterrupt",
     "evalue": "",
     "output_type": "error",
     "traceback": [
      "\u001b[1;31m---------------------------------------------------------------------------\u001b[0m",
      "\u001b[1;31mKeyboardInterrupt\u001b[0m                         Traceback (most recent call last)",
      "Cell \u001b[1;32mIn[12], line 1\u001b[0m\n\u001b[1;32m----> 1\u001b[0m \u001b[43mrun_trained\u001b[49m\u001b[43m(\u001b[49m\u001b[43m)\u001b[49m\n",
      "Cell \u001b[1;32mIn[11], line 40\u001b[0m, in \u001b[0;36mrun_trained\u001b[1;34m()\u001b[0m\n\u001b[0;32m     37\u001b[0m     current_state \u001b[38;5;241m=\u001b[39m new_state\n\u001b[0;32m     39\u001b[0m     \u001b[38;5;66;03m# Render the cartpole environment\u001b[39;00m\n\u001b[1;32m---> 40\u001b[0m     \u001b[43menv\u001b[49m\u001b[38;5;241;43m.\u001b[39;49m\u001b[43mrender\u001b[49m\u001b[43m(\u001b[49m\u001b[43m)\u001b[49m\n\u001b[0;32m     41\u001b[0m stop \u001b[38;5;241m=\u001b[39m time\u001b[38;5;241m.\u001b[39mtime()\n\u001b[0;32m     42\u001b[0m t \u001b[38;5;241m=\u001b[39m stop \u001b[38;5;241m-\u001b[39m start\n",
      "File \u001b[1;32m~\\.conda\\envs\\AI\\lib\\site-packages\\gym\\core.py:240\u001b[0m, in \u001b[0;36mWrapper.render\u001b[1;34m(self, mode, **kwargs)\u001b[0m\n\u001b[0;32m    239\u001b[0m \u001b[38;5;28;01mdef\u001b[39;00m \u001b[38;5;21mrender\u001b[39m(\u001b[38;5;28mself\u001b[39m, mode\u001b[38;5;241m=\u001b[39m\u001b[38;5;124m'\u001b[39m\u001b[38;5;124mhuman\u001b[39m\u001b[38;5;124m'\u001b[39m, \u001b[38;5;241m*\u001b[39m\u001b[38;5;241m*\u001b[39mkwargs):\n\u001b[1;32m--> 240\u001b[0m     \u001b[38;5;28;01mreturn\u001b[39;00m \u001b[38;5;28mself\u001b[39m\u001b[38;5;241m.\u001b[39menv\u001b[38;5;241m.\u001b[39mrender(mode, \u001b[38;5;241m*\u001b[39m\u001b[38;5;241m*\u001b[39mkwargs)\n",
      "File \u001b[1;32m~\\.conda\\envs\\AI\\lib\\site-packages\\gym\\envs\\classic_control\\cartpole.py:213\u001b[0m, in \u001b[0;36mCartPoleEnv.render\u001b[1;34m(self, mode)\u001b[0m\n\u001b[0;32m    210\u001b[0m \u001b[38;5;28mself\u001b[39m\u001b[38;5;241m.\u001b[39mcarttrans\u001b[38;5;241m.\u001b[39mset_translation(cartx, carty)\n\u001b[0;32m    211\u001b[0m \u001b[38;5;28mself\u001b[39m\u001b[38;5;241m.\u001b[39mpoletrans\u001b[38;5;241m.\u001b[39mset_rotation(\u001b[38;5;241m-\u001b[39mx[\u001b[38;5;241m2\u001b[39m])\n\u001b[1;32m--> 213\u001b[0m \u001b[38;5;28;01mreturn\u001b[39;00m \u001b[38;5;28;43mself\u001b[39;49m\u001b[38;5;241;43m.\u001b[39;49m\u001b[43mviewer\u001b[49m\u001b[38;5;241;43m.\u001b[39;49m\u001b[43mrender\u001b[49m\u001b[43m(\u001b[49m\u001b[43mreturn_rgb_array\u001b[49m\u001b[38;5;241;43m=\u001b[39;49m\u001b[43mmode\u001b[49m\u001b[43m \u001b[49m\u001b[38;5;241;43m==\u001b[39;49m\u001b[43m \u001b[49m\u001b[38;5;124;43m'\u001b[39;49m\u001b[38;5;124;43mrgb_array\u001b[39;49m\u001b[38;5;124;43m'\u001b[39;49m\u001b[43m)\u001b[49m\n",
      "File \u001b[1;32m~\\.conda\\envs\\AI\\lib\\site-packages\\gym\\envs\\classic_control\\rendering.py:127\u001b[0m, in \u001b[0;36mViewer.render\u001b[1;34m(self, return_rgb_array)\u001b[0m\n\u001b[0;32m    125\u001b[0m     arr \u001b[38;5;241m=\u001b[39m arr\u001b[38;5;241m.\u001b[39mreshape(buffer\u001b[38;5;241m.\u001b[39mheight, buffer\u001b[38;5;241m.\u001b[39mwidth, \u001b[38;5;241m4\u001b[39m)\n\u001b[0;32m    126\u001b[0m     arr \u001b[38;5;241m=\u001b[39m arr[::\u001b[38;5;241m-\u001b[39m\u001b[38;5;241m1\u001b[39m,:,\u001b[38;5;241m0\u001b[39m:\u001b[38;5;241m3\u001b[39m]\n\u001b[1;32m--> 127\u001b[0m \u001b[38;5;28;43mself\u001b[39;49m\u001b[38;5;241;43m.\u001b[39;49m\u001b[43mwindow\u001b[49m\u001b[38;5;241;43m.\u001b[39;49m\u001b[43mflip\u001b[49m\u001b[43m(\u001b[49m\u001b[43m)\u001b[49m\n\u001b[0;32m    128\u001b[0m \u001b[38;5;28mself\u001b[39m\u001b[38;5;241m.\u001b[39monetime_geoms \u001b[38;5;241m=\u001b[39m []\n\u001b[0;32m    129\u001b[0m \u001b[38;5;28;01mreturn\u001b[39;00m arr \u001b[38;5;28;01mif\u001b[39;00m return_rgb_array \u001b[38;5;28;01melse\u001b[39;00m \u001b[38;5;28mself\u001b[39m\u001b[38;5;241m.\u001b[39misopen\n",
      "File \u001b[1;32m~\\.conda\\envs\\AI\\lib\\site-packages\\pyglet\\window\\win32\\__init__.py:336\u001b[0m, in \u001b[0;36mWin32Window.flip\u001b[1;34m(self)\u001b[0m\n\u001b[0;32m    334\u001b[0m     \u001b[38;5;28;01mif\u001b[39;00m \u001b[38;5;28mself\u001b[39m\u001b[38;5;241m.\u001b[39m_always_dwm \u001b[38;5;129;01mor\u001b[39;00m \u001b[38;5;28mself\u001b[39m\u001b[38;5;241m.\u001b[39m_dwm_composition_enabled():\n\u001b[0;32m    335\u001b[0m         \u001b[38;5;28;01mif\u001b[39;00m \u001b[38;5;28mself\u001b[39m\u001b[38;5;241m.\u001b[39m_interval:\n\u001b[1;32m--> 336\u001b[0m             \u001b[43m_dwmapi\u001b[49m\u001b[38;5;241;43m.\u001b[39;49m\u001b[43mDwmFlush\u001b[49m\u001b[43m(\u001b[49m\u001b[43m)\u001b[49m\n\u001b[0;32m    338\u001b[0m \u001b[38;5;28mself\u001b[39m\u001b[38;5;241m.\u001b[39mcontext\u001b[38;5;241m.\u001b[39mflip()\n",
      "\u001b[1;31mKeyboardInterrupt\u001b[0m: "
     ]
    }
   ],
   "source": [
    "run_trained()"
   ]
  },
  {
   "cell_type": "code",
   "execution_count": null,
   "id": "f3b70ca5-84bd-4e0d-b0a6-15f6db90667f",
   "metadata": {},
   "outputs": [],
   "source": [
    "number_bins[0]"
   ]
  }
 ],
 "metadata": {
  "kernelspec": {
   "display_name": "AI",
   "language": "python",
   "name": "ai"
  },
  "language_info": {
   "codemirror_mode": {
    "name": "ipython",
    "version": 3
   },
   "file_extension": ".py",
   "mimetype": "text/x-python",
   "name": "python",
   "nbconvert_exporter": "python",
   "pygments_lexer": "ipython3",
   "version": "3.10.9"
  }
 },
 "nbformat": 4,
 "nbformat_minor": 5
}
