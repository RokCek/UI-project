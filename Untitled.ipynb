{
 "cells": [
  {
   "cell_type": "code",
   "execution_count": 1,
   "id": "f329bb94-a8f6-446a-afc8-f184e126be26",
   "metadata": {},
   "outputs": [],
   "source": [
    "import numpy as np \n",
    "import time, math, random\n",
    "from tqdm import tqdm\n",
    "# import gym \n",
    "import gym"
   ]
  },
  {
   "cell_type": "code",
   "execution_count": 2,
   "id": "b1d8208a-7e8c-4b82-a012-02c29df1ffaf",
   "metadata": {},
   "outputs": [],
   "source": [
    "env = gym.make('CartPole-v1')"
   ]
  },
  {
   "cell_type": "code",
   "execution_count": 3,
   "id": "fa9bb44b-5225-4bda-9fba-1cde8d618979",
   "metadata": {},
   "outputs": [
    {
     "data": {
      "text/plain": [
       "'policy = lambda obs: 1\\n\\nfor _ in range(3):\\n    obs = env.reset()\\n    for _ in range(80):\\n        actions = policy(obs)\\n        obs, reward, done, _ = env.step(actions) \\n        #print(info)\\n        env.render()\\n        time.sleep(0.05)\\n\\nenv.close()'"
      ]
     },
     "execution_count": 3,
     "metadata": {},
     "output_type": "execute_result"
    }
   ],
   "source": [
    "\"\"\"policy = lambda obs: 1\n",
    "\n",
    "for _ in range(3):\n",
    "    obs = env.reset()\n",
    "    for _ in range(80):\n",
    "        actions = policy(obs)\n",
    "        obs, reward, done, _ = env.step(actions) \n",
    "        #print(info)\n",
    "        env.render()\n",
    "        time.sleep(0.05)\n",
    "\n",
    "env.close()\"\"\""
   ]
  },
  {
   "cell_type": "code",
   "execution_count": null,
   "id": "5e310860-5e2f-4de7-bbde-66f2216715b7",
   "metadata": {},
   "outputs": [],
   "source": []
  },
  {
   "cell_type": "code",
   "execution_count": null,
   "id": "6d9387fb-719a-4e1b-bba5-22cf0f0b6197",
   "metadata": {},
   "outputs": [],
   "source": []
  },
  {
   "cell_type": "code",
   "execution_count": null,
   "id": "81619c68-c3d8-4d5a-beb6-c9516b21bec7",
   "metadata": {},
   "outputs": [],
   "source": []
  },
  {
   "cell_type": "code",
   "execution_count": 4,
   "id": "315a885b-24ec-4af3-841c-e936e610a6c8",
   "metadata": {},
   "outputs": [],
   "source": [
    "number_bins = (10, 20)\n",
    "lower_bounds = [env.observation_space.low[2], -np.radians(50)]\n",
    "upper_bounds = [env.observation_space.high[2], np.radians(50)]\n",
    "bins = [np.linspace(lower_bounds[i], upper_bounds[i], number_bins[i]+1)[1:-1] for i in range(len(number_bins))]\n",
    "\n",
    "learning_rate = 0.2\n",
    "#discount_factor = 1 # Our cart always has to move\n",
    "exploration_rate = 0.2 \n",
    "Q = np.zeros(number_bins + (env.action_space.n,))"
   ]
  },
  {
   "cell_type": "code",
   "execution_count": 5,
   "id": "c556ddcf-e8d0-4910-a413-7099714691bb",
   "metadata": {},
   "outputs": [],
   "source": [
    "def discretizer(position, cart_velocity, angle, pole_velocity):\n",
    "    \"\"\"Convert continuous space into a discrete space.\"\"\"\n",
    "    state = np.array([angle, pole_velocity])\n",
    "    state_disc = []\n",
    "    for i in range(len(state)):\n",
    "        digitized = 0\n",
    "        for j in range(len(bins[i])):\n",
    "            if state[i] > bins[i][j]:\n",
    "                digitized += 1\n",
    "            else:\n",
    "                break\n",
    "        state_disc.append(digitized)\n",
    "    return tuple(state_disc)"
   ]
  },
  {
   "cell_type": "code",
   "execution_count": 6,
   "id": "adc6fc95-dd7f-4913-ac06-9ef80b7d7ae6",
   "metadata": {},
   "outputs": [],
   "source": [
    "def new_q(reward,new_state):\n",
    "    estimate_optimal_future_value = np.max(Q[new_state])\n",
    "    new_value = reward + estimate_optimal_future_value\n",
    "    return new_value"
   ]
  },
  {
   "cell_type": "code",
   "execution_count": null,
   "id": "6b322547-8c8a-4bfc-8e9e-cf66689d2fb0",
   "metadata": {
    "tags": []
   },
   "outputs": [
    {
     "name": "stderr",
     "output_type": "stream",
     "text": [
      "  0%|                                                                                | 2/10000 [00:00<43:32,  3.83it/s]"
     ]
    },
    {
     "name": "stdout",
     "output_type": "stream",
     "text": [
      "0 0.3962595462799072\n"
     ]
    },
    {
     "name": "stderr",
     "output_type": "stream",
     "text": [
      "  1%|▌                                                                              | 71/10000 [00:16<49:04,  3.37it/s]"
     ]
    },
    {
     "name": "stdout",
     "output_type": "stream",
     "text": [
      "69 0.5815675258636475\n"
     ]
    },
    {
     "name": "stderr",
     "output_type": "stream",
     "text": [
      "  5%|████                                                                        | 530/10000 [02:02<1:07:58,  2.32it/s]"
     ]
    },
    {
     "name": "stdout",
     "output_type": "stream",
     "text": [
      "529 0.6335418224334717\n"
     ]
    },
    {
     "name": "stderr",
     "output_type": "stream",
     "text": [
      "  6%|████▏                                                                       | 553/10000 [02:11<1:15:58,  2.07it/s]"
     ]
    },
    {
     "name": "stdout",
     "output_type": "stream",
     "text": [
      "552 0.7141401767730713\n"
     ]
    },
    {
     "name": "stderr",
     "output_type": "stream",
     "text": [
      "  8%|██████▎                                                                     | 823/10000 [03:42<1:43:56,  1.47it/s]"
     ]
    },
    {
     "name": "stdout",
     "output_type": "stream",
     "text": [
      "822 1.28092360496521\n"
     ]
    },
    {
     "name": "stderr",
     "output_type": "stream",
     "text": [
      "  8%|██████▎                                                                     | 827/10000 [03:46<2:38:17,  1.04s/it]"
     ]
    },
    {
     "name": "stdout",
     "output_type": "stream",
     "text": [
      "826 2.083562135696411\n"
     ]
    },
    {
     "name": "stderr",
     "output_type": "stream",
     "text": [
      "  9%|██████▊                                                                     | 902/10000 [04:27<2:48:57,  1.11s/it]"
     ]
    },
    {
     "name": "stdout",
     "output_type": "stream",
     "text": [
      "901 2.0850815773010254\n"
     ]
    },
    {
     "name": "stderr",
     "output_type": "stream",
     "text": [
      "  9%|██████▉                                                                     | 912/10000 [04:35<2:58:28,  1.18s/it]"
     ]
    },
    {
     "name": "stdout",
     "output_type": "stream",
     "text": [
      "911 2.166816234588623\n"
     ]
    },
    {
     "name": "stderr",
     "output_type": "stream",
     "text": [
      "  9%|███████                                                                     | 936/10000 [04:57<3:03:29,  1.21s/it]"
     ]
    },
    {
     "name": "stdout",
     "output_type": "stream",
     "text": [
      "935 2.2981152534484863\n"
     ]
    },
    {
     "name": "stderr",
     "output_type": "stream",
     "text": [
      "  9%|███████▏                                                                    | 946/10000 [05:06<3:08:13,  1.25s/it]"
     ]
    },
    {
     "name": "stdout",
     "output_type": "stream",
     "text": [
      "945 2.646820545196533\n"
     ]
    },
    {
     "name": "stderr",
     "output_type": "stream",
     "text": [
      " 10%|███████▍                                                                    | 984/10000 [05:38<3:42:31,  1.48s/it]"
     ]
    },
    {
     "name": "stdout",
     "output_type": "stream",
     "text": [
      "983 3.3822834491729736\n"
     ]
    },
    {
     "name": "stderr",
     "output_type": "stream",
     "text": [
      " 10%|███████▍                                                                    | 986/10000 [05:46<6:52:01,  2.74s/it]"
     ]
    },
    {
     "name": "stdout",
     "output_type": "stream",
     "text": [
      "985 4.797634124755859\n"
     ]
    },
    {
     "name": "stderr",
     "output_type": "stream",
     "text": [
      " 10%|███████▌                                                                   | 1005/10000 [06:17<5:35:21,  2.24s/it]"
     ]
    },
    {
     "name": "stdout",
     "output_type": "stream",
     "text": [
      "1004 5.132038831710815\n"
     ]
    },
    {
     "name": "stderr",
     "output_type": "stream",
     "text": [
      " 10%|███████▌                                                                   | 1006/10000 [06:22<7:56:40,  3.18s/it]"
     ]
    },
    {
     "name": "stdout",
     "output_type": "stream",
     "text": [
      "1005 5.379202604293823\n"
     ]
    },
    {
     "name": "stderr",
     "output_type": "stream",
     "text": [
      " 10%|███████▍                                                                  | 1007/10000 [06:28<10:29:38,  4.20s/it]"
     ]
    },
    {
     "name": "stdout",
     "output_type": "stream",
     "text": [
      "1006 6.582042932510376\n"
     ]
    },
    {
     "name": "stderr",
     "output_type": "stream",
     "text": [
      " 11%|████████                                                                   | 1070/10000 [08:59<9:56:40,  4.01s/it]"
     ]
    },
    {
     "name": "stdout",
     "output_type": "stream",
     "text": [
      "1069 7.298332691192627\n"
     ]
    },
    {
     "name": "stderr",
     "output_type": "stream",
     "text": [
      " 11%|████████▎                                                                  | 1102/10000 [10:27<8:13:02,  3.32s/it]"
     ]
    },
    {
     "name": "stdout",
     "output_type": "stream",
     "text": [
      "1101 7.565253019332886\n"
     ]
    },
    {
     "name": "stderr",
     "output_type": "stream",
     "text": [
      " 11%|████████▍                                                                 | 1134/10000 [11:31<10:01:39,  4.07s/it]"
     ]
    },
    {
     "name": "stdout",
     "output_type": "stream",
     "text": [
      "1133 8.36181902885437\n"
     ]
    },
    {
     "name": "stderr",
     "output_type": "stream",
     "text": [
      " 12%|█████████                                                                 | 1230/10000 [17:22<16:05:34,  6.61s/it]"
     ]
    },
    {
     "name": "stdout",
     "output_type": "stream",
     "text": [
      "1229 8.379225969314575\n"
     ]
    },
    {
     "name": "stderr",
     "output_type": "stream",
     "text": [
      " 13%|█████████▎                                                                | 1259/10000 [19:37<12:31:55,  5.16s/it]"
     ]
    },
    {
     "name": "stdout",
     "output_type": "stream",
     "text": [
      "1258 8.980133533477783\n"
     ]
    },
    {
     "name": "stderr",
     "output_type": "stream",
     "text": [
      " 44%|███████████████████████████████▎                                        | 4356/10000 [5:32:03<10:07:45,  6.46s/it]"
     ]
    }
   ],
   "source": [
    "n_episodes = 10000 \n",
    "max_time = 0\n",
    "for e in tqdm(range(n_episodes)):\n",
    "    start = time.time()\n",
    "    #rint(e)\n",
    "    \n",
    "    # Siscretize state into buckets\n",
    "    current_state, done = discretizer(*env.reset()), False\n",
    "    \n",
    "    while done==False:\n",
    "        \n",
    "        # policy action \n",
    "        action = np.argmax(Q[current_state]) # exploit\n",
    "        \n",
    "        # insert random action\n",
    "        if np.random.random() < exploration_rate : \n",
    "            action = env.action_space.sample() # explore \n",
    "         \n",
    "        # increment enviroment\n",
    "        obs, reward, done, _ = env.step(action)\n",
    "        new_state = discretizer(*obs)\n",
    "        \n",
    "        # Update Q-Table\n",
    "        lr = learning_rate\n",
    "        learnt_value = new_q(reward , new_state )\n",
    "        old_value = Q[current_state][action]\n",
    "        Q[current_state][action] = (1-lr)*old_value + lr*learnt_value\n",
    "        \n",
    "        current_state = new_state\n",
    "\n",
    "        # Render the cartpole environment\n",
    "        env.render()\n",
    "    stop = time.time()\n",
    "    t = stop - start\n",
    "    \n",
    "    if t > max_time:\n",
    "        max_time = t\n",
    "        print(e, max_time)"
   ]
  },
  {
   "cell_type": "code",
   "execution_count": null,
   "id": "8cc57ee4-7e7f-40c4-be0f-85c22c156fe9",
   "metadata": {},
   "outputs": [],
   "source": []
  }
 ],
 "metadata": {
  "kernelspec": {
   "display_name": "AI",
   "language": "python",
   "name": "ai"
  },
  "language_info": {
   "codemirror_mode": {
    "name": "ipython",
    "version": 3
   },
   "file_extension": ".py",
   "mimetype": "text/x-python",
   "name": "python",
   "nbconvert_exporter": "python",
   "pygments_lexer": "ipython3",
   "version": "3.10.9"
  }
 },
 "nbformat": 4,
 "nbformat_minor": 5
}
